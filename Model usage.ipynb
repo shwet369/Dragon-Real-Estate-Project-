{
 "cells": [
  {
   "cell_type": "markdown",
   "id": "8d7040ac",
   "metadata": {},
   "source": [
    "### Testing the model on test data"
   ]
  },
  {
   "cell_type": "code",
   "execution_count": 3,
   "id": "ba8b23b2",
   "metadata": {},
   "outputs": [
    {
     "data": {
      "text/plain": [
       "array([13.842])"
      ]
     },
     "execution_count": 3,
     "metadata": {},
     "output_type": "execute_result"
    }
   ],
   "source": [
    "from joblib import dump, load\n",
    "import numpy as np\n",
    "model = load('Dragon.joblib') \n",
    "features = np.array([[-2.74953619e-01, -4.88919920e-01, -4.35631480e-01, -2.73179182e-01,\n",
    "       -1.44112359e-01, -1.01536095e+00,  1.05081041e+00, -3.78467528e-04,\n",
    "       -6.36357646e-01, -5.98742954e-01,  1.18023309e+00,  2.14519071e-01,\n",
    "        1.17134710e+00]])\n",
    "model.predict(features)"
   ]
  },
  {
   "cell_type": "code",
   "execution_count": null,
   "id": "7f4fe11a",
   "metadata": {},
   "outputs": [],
   "source": []
  }
 ],
 "metadata": {
  "kernelspec": {
   "display_name": "Python 3 (ipykernel)",
   "language": "python",
   "name": "python3"
  },
  "language_info": {
   "codemirror_mode": {
    "name": "ipython",
    "version": 3
   },
   "file_extension": ".py",
   "mimetype": "text/x-python",
   "name": "python",
   "nbconvert_exporter": "python",
   "pygments_lexer": "ipython3",
   "version": "3.11.5"
  }
 },
 "nbformat": 4,
 "nbformat_minor": 5
}
